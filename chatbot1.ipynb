{
 "cells": [
  {
   "cell_type": "code",
   "execution_count": 1,
   "metadata": {},
   "outputs": [
    {
     "data": {
      "text/plain": [
       "<infermedica_api.webservice.API at 0x1084e6cf8>"
      ]
     },
     "execution_count": 1,
     "metadata": {},
     "output_type": "execute_result"
    }
   ],
   "source": [
    "import infermedica_api\n",
    "\n",
    "infermedica_api.configure(app_id='ad20473e', app_key='9eae3e6bea1cfb67cb81cb6a94f4a9e9')"
   ]
  },
  {
   "cell_type": "code",
   "execution_count": 2,
   "metadata": {},
   "outputs": [],
   "source": [
    "api = infermedica_api.get_api()"
   ]
  },
  {
   "cell_type": "code",
   "execution_count": 3,
   "metadata": {},
   "outputs": [
    {
     "name": "stdin",
     "output_type": "stream",
     "text": [
      " Not feeling good\n"
     ]
    }
   ],
   "source": [
    "message = input()"
   ]
  },
  {
   "cell_type": "code",
   "execution_count": 5,
   "metadata": {},
   "outputs": [],
   "source": [
    "symptoms = []\n",
    "\n",
    "response = api.parse(message)\n",
    "for mention in response.mentions:\n",
    "    symptoms.append((mention.id, mention.choice_id))"
   ]
  },
  {
   "cell_type": "code",
   "execution_count": 6,
   "metadata": {},
   "outputs": [
    {
     "data": {
      "text/plain": [
       "[]"
      ]
     },
     "execution_count": 6,
     "metadata": {},
     "output_type": "execute_result"
    }
   ],
   "source": [
    "symptoms"
   ]
  },
  {
   "cell_type": "code",
   "execution_count": 6,
   "metadata": {},
   "outputs": [],
   "source": [
    "request = infermedica_api.Diagnosis(sex='male', age=21)"
   ]
  },
  {
   "cell_type": "code",
   "execution_count": 7,
   "metadata": {},
   "outputs": [],
   "source": [
    "for symptom in symptoms:\n",
    "    request.add_symptom(symptom[0], symptom[1])"
   ]
  },
  {
   "cell_type": "code",
   "execution_count": 8,
   "metadata": {},
   "outputs": [],
   "source": [
    "request = api.diagnosis(request)"
   ]
  },
  {
   "cell_type": "code",
   "execution_count": 12,
   "metadata": {},
   "outputs": [
    {
     "name": "stdout",
     "output_type": "stream",
     "text": [
      "How long have you been experiencing these headaches?\n"
     ]
    },
    {
     "name": "stdin",
     "output_type": "stream",
     "text": [
      " 2 days\n"
     ]
    },
    {
     "name": "stdout",
     "output_type": "stream",
     "text": [
      "How long do your headaches usually last?\n"
     ]
    },
    {
     "name": "stdin",
     "output_type": "stream",
     "text": [
      " 1 day\n"
     ]
    },
    {
     "name": "stdout",
     "output_type": "stream",
     "text": [
      "Where is your headache located?\n"
     ]
    },
    {
     "name": "stdin",
     "output_type": "stream",
     "text": [
      " center\n"
     ]
    },
    {
     "name": "stdout",
     "output_type": "stream",
     "text": [
      "How would you describe your headache?\n"
     ]
    },
    {
     "name": "stdin",
     "output_type": "stream",
     "text": [
      " mild\n"
     ]
    },
    {
     "name": "stdout",
     "output_type": "stream",
     "text": [
      "How would you describe your headache?\n"
     ]
    },
    {
     "name": "stdin",
     "output_type": "stream",
     "text": [
      " mild\n"
     ]
    },
    {
     "name": "stdout",
     "output_type": "stream",
     "text": [
      "Do you have any of the symptoms below?\n"
     ]
    },
    {
     "name": "stdin",
     "output_type": "stream",
     "text": [
      " no\n"
     ]
    },
    {
     "name": "stdout",
     "output_type": "stream",
     "text": [
      "Do you have any of the symptoms below?\n"
     ]
    },
    {
     "name": "stdin",
     "output_type": "stream",
     "text": [
      " no\n"
     ]
    },
    {
     "name": "stdout",
     "output_type": "stream",
     "text": [
      "Do you have nosebleed or nosebleeds?\n"
     ]
    },
    {
     "name": "stdin",
     "output_type": "stream",
     "text": [
      " no\n"
     ]
    }
   ],
   "source": [
    "import textdistance\n",
    "\n",
    "def diagnose(request):\n",
    "    jaro = textdistance.JaroWinkler()\n",
    "    count = 1\n",
    "\n",
    "    while request.question and request.conditions[0][\"probability\"] <= 0.95:\n",
    "        if count > 5:\n",
    "            break\n",
    "        count += 1\n",
    "        print(request.question.text)\n",
    "        answer = input()\n",
    "        max = -1\n",
    "        id = request.question.items[0]['id']\n",
    "        for item in request.question.items:\n",
    "            similarity = jaro.normalized_similarity(item['name'], answer)\n",
    "            if similarity > max:\n",
    "                max = similarity\n",
    "                id = item['id']\n",
    "        request.add_symptom(id, \"present\")        \n",
    "        request = api.diagnosis(request)\n",
    "\n",
    "    return request"
   ]
  },
  {
   "cell_type": "code",
   "execution_count": 14,
   "metadata": {},
   "outputs": [
    {
     "name": "stdout",
     "output_type": "stream",
     "text": [
      "{'id': 'c_49', 'name': 'Migraine', 'common_name': 'Migraine', 'probability': 0.9539}\n"
     ]
    }
   ],
   "source": [
    "def main():\n",
    "    age = int(input(\"age?\"))\n",
    "    sex = input(\"sex?\")\n",
    "\n",
    "    while True:\n",
    "        message = input()\n",
    "        \n",
    "    "
   ]
  },
  {
   "cell_type": "code",
   "execution_count": null,
   "metadata": {},
   "outputs": [],
   "source": []
  }
 ],
 "metadata": {
  "kernelspec": {
   "display_name": "Python 3",
   "language": "python",
   "name": "python3"
  },
  "language_info": {
   "codemirror_mode": {
    "name": "ipython",
    "version": 3
   },
   "file_extension": ".py",
   "mimetype": "text/x-python",
   "name": "python",
   "nbconvert_exporter": "python",
   "pygments_lexer": "ipython3",
   "version": "3.7.3"
  }
 },
 "nbformat": 4,
 "nbformat_minor": 4
}
